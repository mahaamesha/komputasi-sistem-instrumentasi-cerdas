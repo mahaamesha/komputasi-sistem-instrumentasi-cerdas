{
 "cells": [
  {
   "cell_type": "code",
   "execution_count": 1,
   "metadata": {},
   "outputs": [],
   "source": [
    "# Nama  : Avima Haamesha\n",
    "# NIM   : 10219084"
   ]
  },
  {
   "cell_type": "code",
   "execution_count": 21,
   "metadata": {},
   "outputs": [
    {
     "name": "stdout",
     "output_type": "stream",
     "text": [
      "path: bandul.jpg\n",
      "Compare BGR Intensity\n"
     ]
    },
    {
     "data": {
      "image/png": "[encoded data removed]",
      "text/plain": [
       "<Figure size 432x288 with 5 Axes>"
      ]
     },
     "metadata": {
      "needs_background": "light"
     },
     "output_type": "display_data"
    },
    {
     "name": "stdout",
     "output_type": "stream",
     "text": [
      "Done\n",
      "\n",
      "\n"
     ]
    }
   ],
   "source": [
    "import cv2 as cv\n",
    "import numpy as np\n",
    "import matplotlib.pyplot as plt\n",
    "import os\n",
    "\n",
    "\n",
    "# to reverse frame, so every frame will be contiuous\n",
    "def reverse_playback(cap, frame_counter):\n",
    "    frame_counter += 1\n",
    "\n",
    "    if frame_counter == cap.get(cv.CAP_PROP_FRAME_COUNT):\n",
    "        frame_counter = 0\n",
    "        cap.set(cv.CAP_PROP_POS_FRAMES, 0)\n",
    "    \n",
    "    return cap, frame_counter\n",
    "\n",
    "\n",
    "def cvt_gray(img, c_bgr=(0.114, 0.587, 0.299)):\n",
    "    # create black img that have similar size to img\n",
    "    w,h,c = img.shape\n",
    "    img_gray = np.zeros( (w,h) )\n",
    "    \n",
    "    # extract 3 channel: bgr\n",
    "    img_b, img_g, img_r = img[:,:,0], img[:,:,1], img[:,:,2]\n",
    "    \n",
    "    # convert bgr channel to gray\n",
    "    for i in range(w):\n",
    "        for j in range(h):\n",
    "            img_gray[i,j]   = c_bgr[0] * img_b[i,j] \\\n",
    "                            + c_bgr[1] * img_g[i,j] \\\n",
    "                            + c_bgr[2] * img_r[i,j]\n",
    "    return img_gray\n",
    "\n",
    "\n",
    "def extract_color(img, lower=[0,0,0], upper=[0,0,0]):\n",
    "    hsv = cv.cvtColor(img, cv.COLOR_BGR2HSV)\n",
    "\n",
    "    lower, upper = np.array(lower), np.array(upper)\n",
    "    mask = cv.inRange(hsv, lower, upper)\n",
    "\n",
    "    # extracted = mask.copy()\n",
    "\n",
    "    return mask\n",
    "\n",
    "\n",
    "def func_process(path=\"mg08_uts/bandul.jpg\"):\n",
    "    # read img in rgb color space\n",
    "    img = cv.imread(path)\n",
    "\n",
    "    extracted = extract_color(img, lower=[127,0,0], upper=[255,255,255])\n",
    "    \n",
    "    # compare every channel intensity\n",
    "    print(\"Compare BGR Intensity\")\n",
    "    plt.subplots(nrows=1, ncols=3, tight_layout=1)\n",
    "    plt.subplot(1,3,1); plt.imshow( cv.cvtColor(img      , cv.COLOR_BGR2RGB) ); plt.title(\"RGB\"); plt.colorbar(orientation=\"horizontal\")\n",
    "    plt.subplot(1,3,2); plt.imshow( cv.cvtColor(extracted, cv.COLOR_BGR2RGB) ); plt.title(\"Extracted\"); plt.colorbar(orientation=\"horizontal\")\n",
    "    # plt.subplot(1,3,3); plt.imshow(); plt.title(\"--\"); plt.colorbar(orientation=\"horizontal\")\n",
    "    plt.show()\n",
    "\n",
    "    print(\"Done\")\n",
    "\n",
    "\n",
    "def play_video(path, isLoop=0):\n",
    "    cap = cv.VideoCapture(path)\n",
    "\n",
    "    frame_counter = 0       # used in reverse_playback()\n",
    "    while True:\n",
    "        # capture frame-by-frame\n",
    "        ret, frame = cap.read()\n",
    "\n",
    "        # if frame is read correctly, ret is True\n",
    "        if (not ret):\n",
    "            print(\"Can't receive frame (stream end?). Exiting ...\")\n",
    "            break\n",
    "        \n",
    "        # playback video by reset the frame_counter\n",
    "        if isLoop:\n",
    "            cap, frame_counter = reverse_playback(cap, frame_counter)\n",
    "        \n",
    "        fps = cap.get(cv.CAP_PROP_FPS)\n",
    "\n",
    "        # show frame\n",
    "        cv.imshow('frame', frame)\n",
    "        # exit if \"q\" is pressed\n",
    "        if (cv.waitKey(1) == ord('q')):\n",
    "            break\n",
    "    \n",
    "    cap.release()\n",
    "    cv.destroyAllWindows()\n",
    "\n",
    "\n",
    "if __name__ == \"__main__\":\n",
    "    folder_path = \"./\"\n",
    "    path_arr = [\"bandul.mp4\"]\n",
    "    \n",
    "    for i in range(len(path_arr)):\n",
    "        print(\"path: %s\" %path_arr[i])\n",
    "        path_arr[i] = os.path.join(folder_path, path_arr[i])\n",
    "        func_process(path_arr[i])\n",
    "        print(\"\\n\")"
   ]
  }
 ],
 "metadata": {
  "kernelspec": {
   "display_name": "Python 3.9.10 64-bit",
   "language": "python",
   "name": "python3"
  },
  "language_info": {
   "codemirror_mode": {
    "name": "ipython",
    "version": 3
   },
   "file_extension": ".py",
   "mimetype": "text/x-python",
   "name": "python",
   "nbconvert_exporter": "python",
   "pygments_lexer": "ipython3",
   "version": "3.9.10"
  },
  "orig_nbformat": 4,
  "vscode": {
   "interpreter": {
    "hash": "e31aef8222fb7c235d2ed8e74ce17e973738f89b37261e7466b7a63a6dfb1214"
   }
  }
 },
 "nbformat": 4,
 "nbformat_minor": 2
}
