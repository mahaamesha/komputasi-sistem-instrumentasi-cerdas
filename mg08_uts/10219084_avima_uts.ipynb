{
 "cells": [
  {
   "cell_type": "code",
   "execution_count": 1,
   "metadata": {},
   "outputs": [],
   "source": [
    "# Nama  : Avima Haamesha\n",
    "# NIM   : 10219084"
   ]
  },
  {
   "cell_type": "markdown",
   "metadata": {},
   "source": [
    "# UTS KSIC\n",
    "\n",
    "Terdapat sumber berupa animasi bandul fisis berosilasi. Dengan menggunakan image processing akan dicari periode bandul berosilasi."
   ]
  },
  {
   "cell_type": "markdown",
   "metadata": {},
   "source": [
    "### Extract Warna Tertentu\n",
    "\n",
    "Ekstraksi warna tertentu dilakukan dengan baris program berikut.\n",
    "```py\n",
    "    def process_func(frame):\n",
    "        # extract specific color range\n",
    "        extracted, mask = extract_color(frame, lower=[0,127,127], upper=[179,255,255])\n",
    "        ...\n",
    "```\n",
    "\n",
    "fungsi `extract_color()` didefinisikan sebagai berikut.\n",
    "```py\n",
    "    def extract_color(frame, lower=[0,0,0], upper=[0,0,0]):\n",
    "        # convert BGR to HSV color space\n",
    "        hsv = cv.cvtColor(frame, cv.COLOR_BGR2HSV)\n",
    "\n",
    "        # get masking frame in 1/0 intensity\n",
    "        lower, upper = np.array(lower), np.array(upper)\n",
    "        mask = cv.inRange(hsv, lower, upper)\n",
    "\n",
    "        # extract frame using masking\n",
    "        res = cv.bitwise_and(frame, frame, mask=mask)\n",
    "\n",
    "        return res, mask\n",
    "```\n",
    "\n",
    "Gambar original yang diload menggunakan tipe BGR color space, dikonversi ke HSV color space. Untuk mengambil warna tertentu, ditentukan terlebih dulu batas bawah dan atasnya. Berikut ini adalah hasil screenshot yang menunjukkan perolehan `mask` dan `res` yang diperoleh. `mask` adalah citra dengan intensitas 1/0, warna dalam range yang sbelumnya ditentukan akan memiliki nilai 1. Sedangkan, `res` adalah hasil perolehan operasi `bitwwise_and()` menggunakan masking `mask`.\n",
    "\n",
    "<img src=\"./mask.jpg\" width=\"45%\"> <img src=\"./res.jpg\" width=\"45%\">"
   ]
  },
  {
   "cell_type": "markdown",
   "metadata": {},
   "source": [
    "### Operasi Erosi dan Dilasi untuk Mengurangi Noise\n",
    "\n",
    "Dari perolehan `mask`, selanjutnya dilakukan operasi erosi untuk menghilangkan noise berukuran kecil. Setelah noise hilang, dilakukan operasi dilasi sehingga daerah berintensitas 1 dengan ukuran cukup besar akan di-dilasi ke ukuran lebih luas.\n",
    "\n",
    "```py\n",
    "    def process_func(frame):\n",
    "        ...\n",
    "        # remove noise & strengthen the region\n",
    "        kernel = np.ones( (3,3), np.uint8 )\n",
    "        erodila = cv.erode(mask, kernel, iterations=2)\n",
    "        erodila = cv.dilate(erodila, kernel, iterations=3)\n",
    "        ...\n",
    "```\n",
    "\n",
    "Di sini digunakan kernel berukuran 3x3 yang semua nilainya adalah 1. Pada operasi **erosi**, nilai citra hasil akan sama dengan nol jika terdapat nilai nol di citra asal yang overlap dengan kernel tersebut. Pada operasi **dilasi**, nilai citra hasil akan bernilai 1 jika terdapat nilai 1 pada citra asal yang overlap dengan kernel.\n",
    "\n",
    "```\n",
    "    | 1 | 1 | 1 |\n",
    "    | 1 | 1 | 1 |\n",
    "    | 1 | 1 | 1 |\n",
    "```"
   ]
  },
  {
   "cell_type": "markdown",
   "metadata": {},
   "source": [
    "### Menemukan Kontur Objek\n",
    "\n",
    "Untuk menemukan kontur atau tepian objek digunakan fungsi `findContours()`. Fungsi `grab_contours()` berfungsi untuk menyimpan kontur-kontur yang ada dalam suatu array.\n",
    "\n",
    "```py\n",
    "    def process_func(frame):\n",
    "        ...\n",
    "        # find & draw contour\n",
    "        cnts = cv.findContours(erodila, cv.RETR_TREE, cv.CHAIN_APPROX_SIMPLE)\n",
    "        cnts = grab_contours(cnts)\n",
    "        ...\n",
    "```"
   ]
  },
  {
   "cell_type": "markdown",
   "metadata": {},
   "source": [
    "### Visualisasi Posisi Centroid\n",
    "\n",
    "Setelah diperoleh array of contours, selanjutnya dimanfaatkan baris program berikut untuk menggambarkan persegi minimum objek dan menggambarkan titik centroid.\n",
    "\n",
    "```py\n",
    "    def process_func(frame):\n",
    "        ...\n",
    "        area = get_area(cnts)\n",
    "        centroid_frame, box = draw_min_rectangle(frame, cnts)\n",
    "        centroid_frame, centroid = draw_centroid(frame, cnts)\n",
    "        ...\n",
    "```\n",
    "\n",
    "Perolehan persegi terkecil diperoleh dari fungsi `draw_min_rectangle()`. Variabel `box` akan menyimpan 4 titik di sudut-sudut persegi. Variabel `arr` akan menyimpan kumpulan `box` dari setiap kontur yang terdeteksi.\n",
    "```py\n",
    "    def draw_min_rectangle(frame, cnts):\n",
    "        arr = []    # store arr of box for every contour detected\n",
    "        for cnt in cnts:\n",
    "            rect = cv.minAreaRect(cnt)\n",
    "            box = cv.boxPoints(rect)\n",
    "            box = np.int0(box)\n",
    "            arr.append(box)\n",
    "        \n",
    "        for (a,b,c,d) in arr:\n",
    "            cv.line(frame, pt1=a, pt2=b, color=(0,255,0), thickness=2)\n",
    "            cv.line(frame, pt1=b, pt2=c, color=(0,255,0), thickness=2)\n",
    "            cv.line(frame, pt1=c, pt2=d, color=(0,255,0), thickness=2)\n",
    "            cv.line(frame, pt1=d, pt2=a, color=(0,255,0), thickness=2)\n",
    "\n",
    "        return frame, arr\n",
    "```"
   ]
  },
  {
   "cell_type": "markdown",
   "metadata": {},
   "source": [
    "### Menyimpan Data\n",
    "\n",
    "Untuk menentukan periode, diperlukan beberapa data yang harus disimpan, setidaknya centroid dan area.\n",
    "\n",
    "```py\n",
    "    def process_func(frame):\n",
    "        ...\n",
    "        myData.store_centroid(centroid[0])  # centroid[0] because the array store centroid of many objects\n",
    "        myData.store_area(area)\n",
    "        myData.store_period()\n",
    "        ...\n",
    "```"
   ]
  },
  {
   "cell_type": "markdown",
   "metadata": {},
   "source": [
    "### Menentukan Periode\n",
    "\n",
    "Data-data disimpan pada suatu class dengan format sebagai berikut.\n",
    "```py\n",
    "    class Data():\n",
    "        def __init__(self):\n",
    "            self.fps = None\n",
    "            self.time = [None,None] # store time start & end when in oscilataion\n",
    "            self.period = None\n",
    "            self.pos = [(None,None)]    # storing centroid (cx, cy)\n",
    "            self.area = None\n",
    "        ...\n",
    "```\n",
    "\n",
    "Tiga fungsi di atas didefinisikan dalam suatu `Class Data`. Akan disimpan posisi awal objek terlebih dahulu, yaitu ketika data `self.pos = [(None,None)]`. Setelah data centroid awal disimpan. Array `self.pos` di-append tuple `(None,None)`. Tuple ini berfungsi menyimpan centroid yang terdeteksi di setiap frame. Kondisi if pertama hanya bekerja satu kali di awal program. Setelah itu, di frame selanjutnya, program di lingkup else yang akan dijalankan. Baris ini akan menyimpan data centroid di setiap frame.\n",
    "\n",
    "```py\n",
    "    class Data:\n",
    "        ...\n",
    "        def store_centroid(self, centroid):\n",
    "            if self.pos[0] == (None,None):  # store initial value\n",
    "                self.pos[0] = centroid\n",
    "                (self.pos).append( (None,None) )    # i only need to store 2 centroid data\n",
    "            else:\n",
    "                self.pos[1] = centroid\n",
    "            print(\"centroid = [%s,%s]\" %(self.pos[0], self.pos[1]))\n",
    "        ...\n",
    "```\n",
    "\n",
    "Kemudian untuk menentukan periode, digunakan konsep selisih waktu ketika benda mencapai posisi awal. Posisi awal adalah kondisi setelah data centroid pertama disimpan, atau sama saja ketika `self.time[0] == None`. Kondisi `self.pos[1] == self.pos[0]` terpenuhi ketika centroid frame terkini kembali ke posisi awal (centroid awal).\n",
    "\n",
    "Apabila benda kembali ke centroid awal, maka simpan waktu saat itu. Dengan demikian, periode dapat dihitung dengan selisih waktu. Di akhir, `self.time[0]` diatur menjadi `None` kembali. Agar di iterasi saat frame selanjutnya, kodisi if pertama dipenuhi kembali untuk memperbarui nilai `self.time[0]`. Dengan demikian, nilai periode akan selalu diperbarui setiap satu kali ayunan.\n",
    "\n",
    "\n",
    "```py\n",
    "    class Data:\n",
    "        ...\n",
    "        def store_period(self):\n",
    "            if self.time[0] == None:\n",
    "                self.time[0] = getTickCount()\n",
    "            # store period when in peak\n",
    "            elif self.pos[1] == self.pos[0]:\n",
    "                self.time[1] = getTickCount()\n",
    "                self.period = (self.time[1] - self.time[0]) / getTickFrequency()\n",
    "                print(\"T = %s sekon\" %self.period)\n",
    "                self.time[0] = None     # so that make it go back to first condition\n",
    "            print(\"time     = [%s,%s]\" %(self.time[0], self.time[1]))\n",
    "        ...\n",
    "```"
   ]
  },
  {
   "cell_type": "markdown",
   "metadata": {},
   "source": [
    "### Hasil Program\n",
    "\n",
    "Screeshot\n",
    "\n",
    "<img src=\"result.jpg\" width=\"45%\">\n",
    "\n",
    "Video\n",
    "\n",
    "<video width=\"320\" height=\"240\" controls>\n",
    "    <source src=\"result.mp4\" type=\"video/mp4\">\n",
    "</video>"
   ]
  }
 ],
 "metadata": {
  "kernelspec": {
   "display_name": "Python 3.9.10 64-bit",
   "language": "python",
   "name": "python3"
  },
  "language_info": {
   "codemirror_mode": {
    "name": "ipython",
    "version": 3
   },
   "file_extension": ".py",
   "mimetype": "text/x-python",
   "name": "python",
   "nbconvert_exporter": "python",
   "pygments_lexer": "ipython3",
   "version": "3.9.10"
  },
  "orig_nbformat": 4,
  "vscode": {
   "interpreter": {
    "hash": "e31aef8222fb7c235d2ed8e74ce17e973738f89b37261e7466b7a63a6dfb1214"
   }
  }
 },
 "nbformat": 4,
 "nbformat_minor": 2
}
