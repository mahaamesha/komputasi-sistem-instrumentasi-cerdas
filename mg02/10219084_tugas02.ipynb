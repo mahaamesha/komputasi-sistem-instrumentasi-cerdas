{
 "cells": [
  {
   "cell_type": "code",
   "execution_count": 1,
   "metadata": {},
   "outputs": [],
   "source": [
    "# Nama  : Avima Haamesha\n",
    "# NIM   : 10219084"
   ]
  },
  {
   "cell_type": "markdown",
   "metadata": {},
   "source": [
    "# Tugas Mandiri 2\n",
    "\n",
    "Konten:\n",
    "- [Soal 3](#soal_3)\n",
    "\n",
    "<hr>"
   ]
  },
  {
   "cell_type": "markdown",
   "metadata": {},
   "source": [
    "### Soal 3\n",
    "\n",
    "Masalah:\n",
    "- Bola dijatuhkan dari ketinggian tertentu\n",
    "- Ketika bola memantul, terdapat koefisien restitusi $e = 0.8$\n",
    "- Terdapat perlambatan percepatan sebesar $0.01v_i$ saat $h_i = 1/2 H_o$\n",
    "- Terdapat gaya gesek udara\n",
    "\n",
    "Tujuan:\n",
    "- Menentukan energi setiap saat\n",
    "- Mendapatkan plot energi terhadap waktu\n",
    "\n",
    "Asumsi:\n",
    "- Ketinggian awal, $H_o = 5 m$\n",
    "- Gravitasi, $g = 9.8 m/s^2$\n",
    "- Kecepatan awal, $v_o = 0$\n",
    "- Gesekan udara diabaikan\n",
    "- Acuan nol adalah lantai/tanah\n",
    "- Arah ke bawah sebagai sumbu y positif\n",
    "- Massa bola, $m = 1 kg$"
   ]
  },
  {
   "cell_type": "markdown",
   "metadata": {},
   "source": [
    "Teori:\n",
    "- GLBB\n",
    "    $$ \\begin{equation} \\tag{1} x_i = x_o + v.\\Delta t \\end{equation} $$\n",
    "    \n",
    "    $$ \\begin{equation} \\tag{2} v_i = v_o + a.\\Delta t \\end{equation} $$\n",
    "\n",
    "- Tumbukan inelastik\n",
    "    $$ \\begin{equation} \\tag{3} e = \\left\\lvert \\frac{v_f}{v_i} \\right\\rvert \\end{equation} $$"
   ]
  },
  {
   "cell_type": "markdown",
   "metadata": {},
   "source": []
  }
 ],
 "metadata": {
  "kernelspec": {
   "display_name": "Python 3.9.10 64-bit",
   "language": "python",
   "name": "python3"
  },
  "language_info": {
   "codemirror_mode": {
    "name": "ipython",
    "version": 3
   },
   "file_extension": ".py",
   "mimetype": "text/x-python",
   "name": "python",
   "nbconvert_exporter": "python",
   "pygments_lexer": "ipython3",
   "version": "3.9.10"
  },
  "orig_nbformat": 4,
  "vscode": {
   "interpreter": {
    "hash": "e31aef8222fb7c235d2ed8e74ce17e973738f89b37261e7466b7a63a6dfb1214"
   }
  }
 },
 "nbformat": 4,
 "nbformat_minor": 2
}
