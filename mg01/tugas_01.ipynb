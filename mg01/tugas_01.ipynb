{
 "cells": [
  {
   "cell_type": "markdown",
   "metadata": {},
   "source": [
    "```\n",
    "Nama    : Avima Haamesha\n",
    "NIM     : 10219084\n",
    "```\n",
    "\n",
    "# Tugas Mandiri 1\n",
    "Konten:\n",
    "- [Soal 1](#soal_1)\n",
    "- [Soal 2](#soal-2)"
   ]
  },
  {
   "cell_type": "markdown",
   "metadata": {},
   "source": [
    "### Soal 1 <a name=\"soal_1\"></a>\n",
    "Masalah:\n",
    "- Bola dijatuhkan dari ketinggian tertentu\n",
    "- Ketika bola memantul, terdapat koefisien restitusi $e = 0.8$\n",
    "\n",
    "Tujuan:\n",
    "- Menentukan lama waktu bola hingga bola diam\n",
    "\n",
    "Asumsi:\n",
    "- Ketinggian awal, $H_o = 10 m$\n",
    "- Gravitasi, $g = 9.8 m/s^2$\n",
    "- Kecepatan awal, $v_o = 0$\n",
    "- Gesekan udara diabaikan\n",
    "- Acuan nol adalah lantai/tanah\n",
    "- Arah ke bawah sebagai sumbu y positif\n",
    "\n",
    "Teori:\n",
    "- GLBB\n",
    "    $$ \\begin{equation} \\tag{1}\n",
    "        x_i = x_o + v.\\Delta t\n",
    "    \\end{equation}\n",
    "    $$\n",
    "    \n",
    "    $$ \\begin{equation} \\tag{2}\n",
    "        v_i = v_o + a.\\Delta t\n",
    "    \\end{equation}\n",
    "    $$\n",
    "\n",
    "- Tumbukan inelastik\n",
    "    $$ \\begin{equation} \\tag{3}\n",
    "        e = \\left\\lvert \\frac{v_f}{v_i} \\right\\rvert\n",
    "    \\end{equation}\n",
    "    $$\n",
    "\n",
    "Analisis:\n",
    "- Saat bola dijatuhkan dari $H_o$, ketinggian bola berkurang, bola mengalami percepatan karena gravitasi. Ketinggian dan kecepatan benda saat di udara berlaku persamaan GLBB.\n",
    "- Saat mencapai lantai, $H_i = 0$. Arah kecepatan perlu diubah tandanya. Nilai mutlak kecepatan berkurang karena faktor koefisien restitusi, $e = 0.8$.\n",
    "- Saat bola berada di puncak lokal ketika di udara, arah kecepatan akan berubah tanda karena faktor gravitasi. Dari persamaan GLBB, arah kecepatan akan otomatis berubah tanda.\n",
    "- Bola disebut berhenti ketika $H_i = 0$ dan $v_i = 0$."
   ]
  },
  {
   "cell_type": "markdown",
   "metadata": {},
   "source": []
  }
 ],
 "metadata": {
  "kernelspec": {
   "display_name": "Python 3.9.10 64-bit",
   "language": "python",
   "name": "python3"
  },
  "language_info": {
   "name": "python",
   "version": "3.9.10"
  },
  "orig_nbformat": 4,
  "vscode": {
   "interpreter": {
    "hash": "e31aef8222fb7c235d2ed8e74ce17e973738f89b37261e7466b7a63a6dfb1214"
   }
  }
 },
 "nbformat": 4,
 "nbformat_minor": 2
}
